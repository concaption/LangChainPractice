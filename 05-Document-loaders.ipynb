{
 "cells": [
  {
   "cell_type": "markdown",
   "metadata": {},
   "source": [
    "# CSV"
   ]
  },
  {
   "cell_type": "code",
   "execution_count": 1,
   "metadata": {},
   "outputs": [],
   "source": [
    "from langchain.document_loaders.csv_loader import CSVLoader\n",
    "\n",
    "loader = CSVLoader(file_path='assets/document_loaders/mlb_teams_2012.csv')"
   ]
  },
  {
   "cell_type": "code",
   "execution_count": 2,
   "metadata": {},
   "outputs": [],
   "source": [
    "data = loader.load()"
   ]
  },
  {
   "cell_type": "code",
   "execution_count": 3,
   "metadata": {},
   "outputs": [
    {
     "name": "stdout",
     "output_type": "stream",
     "text": [
      "[Document(page_content='Team: Nationals\\n\"Payroll (millions)\": 81.34\\n\"Wins\": 98', metadata={'source': 'assets/document_loaders/mlb_teams_2012.csv', 'row': 0}), Document(page_content='Team: Reds\\n\"Payroll (millions)\": 82.20\\n\"Wins\": 97', metadata={'source': 'assets/document_loaders/mlb_teams_2012.csv', 'row': 1}), Document(page_content='Team: Yankees\\n\"Payroll (millions)\": 197.96\\n\"Wins\": 95', metadata={'source': 'assets/document_loaders/mlb_teams_2012.csv', 'row': 2}), Document(page_content='Team: Giants\\n\"Payroll (millions)\": 117.62\\n\"Wins\": 94', metadata={'source': 'assets/document_loaders/mlb_teams_2012.csv', 'row': 3}), Document(page_content='Team: Braves\\n\"Payroll (millions)\": 83.31\\n\"Wins\": 94', metadata={'source': 'assets/document_loaders/mlb_teams_2012.csv', 'row': 4}), Document(page_content='Team: Athletics\\n\"Payroll (millions)\": 55.37\\n\"Wins\": 94', metadata={'source': 'assets/document_loaders/mlb_teams_2012.csv', 'row': 5}), Document(page_content='Team: Rangers\\n\"Payroll (millions)\": 120.51\\n\"Wins\": 93', metadata={'source': 'assets/document_loaders/mlb_teams_2012.csv', 'row': 6}), Document(page_content='Team: Orioles\\n\"Payroll (millions)\": 81.43\\n\"Wins\": 93', metadata={'source': 'assets/document_loaders/mlb_teams_2012.csv', 'row': 7}), Document(page_content='Team: Rays\\n\"Payroll (millions)\": 64.17\\n\"Wins\": 90', metadata={'source': 'assets/document_loaders/mlb_teams_2012.csv', 'row': 8}), Document(page_content='Team: Angels\\n\"Payroll (millions)\": 154.49\\n\"Wins\": 89', metadata={'source': 'assets/document_loaders/mlb_teams_2012.csv', 'row': 9}), Document(page_content='Team: Tigers\\n\"Payroll (millions)\": 132.30\\n\"Wins\": 88', metadata={'source': 'assets/document_loaders/mlb_teams_2012.csv', 'row': 10}), Document(page_content='Team: Cardinals\\n\"Payroll (millions)\": 110.30\\n\"Wins\": 88', metadata={'source': 'assets/document_loaders/mlb_teams_2012.csv', 'row': 11}), Document(page_content='Team: Dodgers\\n\"Payroll (millions)\": 95.14\\n\"Wins\": 86', metadata={'source': 'assets/document_loaders/mlb_teams_2012.csv', 'row': 12}), Document(page_content='Team: White Sox\\n\"Payroll (millions)\": 96.92\\n\"Wins\": 85', metadata={'source': 'assets/document_loaders/mlb_teams_2012.csv', 'row': 13}), Document(page_content='Team: Brewers\\n\"Payroll (millions)\": 97.65\\n\"Wins\": 83', metadata={'source': 'assets/document_loaders/mlb_teams_2012.csv', 'row': 14}), Document(page_content='Team: Phillies\\n\"Payroll (millions)\": 174.54\\n\"Wins\": 81', metadata={'source': 'assets/document_loaders/mlb_teams_2012.csv', 'row': 15}), Document(page_content='Team: Diamondbacks\\n\"Payroll (millions)\": 74.28\\n\"Wins\": 81', metadata={'source': 'assets/document_loaders/mlb_teams_2012.csv', 'row': 16}), Document(page_content='Team: Pirates\\n\"Payroll (millions)\": 63.43\\n\"Wins\": 79', metadata={'source': 'assets/document_loaders/mlb_teams_2012.csv', 'row': 17}), Document(page_content='Team: Padres\\n\"Payroll (millions)\": 55.24\\n\"Wins\": 76', metadata={'source': 'assets/document_loaders/mlb_teams_2012.csv', 'row': 18}), Document(page_content='Team: Mariners\\n\"Payroll (millions)\": 81.97\\n\"Wins\": 75', metadata={'source': 'assets/document_loaders/mlb_teams_2012.csv', 'row': 19}), Document(page_content='Team: Mets\\n\"Payroll (millions)\": 93.35\\n\"Wins\": 74', metadata={'source': 'assets/document_loaders/mlb_teams_2012.csv', 'row': 20}), Document(page_content='Team: Blue Jays\\n\"Payroll (millions)\": 75.48\\n\"Wins\": 73', metadata={'source': 'assets/document_loaders/mlb_teams_2012.csv', 'row': 21}), Document(page_content='Team: Royals\\n\"Payroll (millions)\": 60.91\\n\"Wins\": 72', metadata={'source': 'assets/document_loaders/mlb_teams_2012.csv', 'row': 22}), Document(page_content='Team: Marlins\\n\"Payroll (millions)\": 118.07\\n\"Wins\": 69', metadata={'source': 'assets/document_loaders/mlb_teams_2012.csv', 'row': 23}), Document(page_content='Team: Red Sox\\n\"Payroll (millions)\": 173.18\\n\"Wins\": 69', metadata={'source': 'assets/document_loaders/mlb_teams_2012.csv', 'row': 24}), Document(page_content='Team: Indians\\n\"Payroll (millions)\": 78.43\\n\"Wins\": 68', metadata={'source': 'assets/document_loaders/mlb_teams_2012.csv', 'row': 25}), Document(page_content='Team: Twins\\n\"Payroll (millions)\": 94.08\\n\"Wins\": 66', metadata={'source': 'assets/document_loaders/mlb_teams_2012.csv', 'row': 26}), Document(page_content='Team: Rockies\\n\"Payroll (millions)\": 78.06\\n\"Wins\": 64', metadata={'source': 'assets/document_loaders/mlb_teams_2012.csv', 'row': 27}), Document(page_content='Team: Cubs\\n\"Payroll (millions)\": 88.19\\n\"Wins\": 61', metadata={'source': 'assets/document_loaders/mlb_teams_2012.csv', 'row': 28}), Document(page_content='Team: Astros\\n\"Payroll (millions)\": 60.65\\n\"Wins\": 55', metadata={'source': 'assets/document_loaders/mlb_teams_2012.csv', 'row': 29})]\n"
     ]
    }
   ],
   "source": [
    "print(data)"
   ]
  },
  {
   "cell_type": "markdown",
   "metadata": {},
   "source": [
    "# File Directory"
   ]
  },
  {
   "cell_type": "code",
   "execution_count": 16,
   "metadata": {},
   "outputs": [],
   "source": [
    "from langchain.document_loaders import DirectoryLoader"
   ]
  },
  {
   "cell_type": "code",
   "execution_count": 17,
   "metadata": {},
   "outputs": [],
   "source": [
    "loader = DirectoryLoader('../', glob=\"**/*.md\")"
   ]
  },
  {
   "cell_type": "code",
   "execution_count": 19,
   "metadata": {},
   "outputs": [
    {
     "ename": "NameError",
     "evalue": "name 'partition_md' is not defined",
     "output_type": "error",
     "traceback": [
      "\u001b[0;31m---------------------------------------------------------------------------\u001b[0m",
      "\u001b[0;31mNameError\u001b[0m                                 Traceback (most recent call last)",
      "Cell \u001b[0;32mIn[19], line 1\u001b[0m\n\u001b[0;32m----> 1\u001b[0m docs \u001b[39m=\u001b[39m loader\u001b[39m.\u001b[39;49mload()\n",
      "File \u001b[0;32m~/Git/LangChainPractice/.venv/lib/python3.10/site-packages/langchain/document_loaders/directory.py:157\u001b[0m, in \u001b[0;36mDirectoryLoader.load\u001b[0;34m(self)\u001b[0m\n\u001b[1;32m    155\u001b[0m \u001b[39melse\u001b[39;00m:\n\u001b[1;32m    156\u001b[0m     \u001b[39mfor\u001b[39;00m i \u001b[39min\u001b[39;00m items:\n\u001b[0;32m--> 157\u001b[0m         \u001b[39mself\u001b[39;49m\u001b[39m.\u001b[39;49mload_file(i, p, docs, pbar)\n\u001b[1;32m    159\u001b[0m \u001b[39mif\u001b[39;00m pbar:\n\u001b[1;32m    160\u001b[0m     pbar\u001b[39m.\u001b[39mclose()\n",
      "File \u001b[0;32m~/Git/LangChainPractice/.venv/lib/python3.10/site-packages/langchain/document_loaders/directory.py:106\u001b[0m, in \u001b[0;36mDirectoryLoader.load_file\u001b[0;34m(self, item, path, docs, pbar)\u001b[0m\n\u001b[1;32m    104\u001b[0m         logger\u001b[39m.\u001b[39mwarning(\u001b[39mf\u001b[39m\u001b[39m\"\u001b[39m\u001b[39mError loading file \u001b[39m\u001b[39m{\u001b[39;00m\u001b[39mstr\u001b[39m(item)\u001b[39m}\u001b[39;00m\u001b[39m: \u001b[39m\u001b[39m{\u001b[39;00me\u001b[39m}\u001b[39;00m\u001b[39m\"\u001b[39m)\n\u001b[1;32m    105\u001b[0m     \u001b[39melse\u001b[39;00m:\n\u001b[0;32m--> 106\u001b[0m         \u001b[39mraise\u001b[39;00m e\n\u001b[1;32m    107\u001b[0m \u001b[39mfinally\u001b[39;00m:\n\u001b[1;32m    108\u001b[0m     \u001b[39mif\u001b[39;00m pbar:\n",
      "File \u001b[0;32m~/Git/LangChainPractice/.venv/lib/python3.10/site-packages/langchain/document_loaders/directory.py:100\u001b[0m, in \u001b[0;36mDirectoryLoader.load_file\u001b[0;34m(self, item, path, docs, pbar)\u001b[0m\n\u001b[1;32m     98\u001b[0m \u001b[39mtry\u001b[39;00m:\n\u001b[1;32m     99\u001b[0m     logger\u001b[39m.\u001b[39mdebug(\u001b[39mf\u001b[39m\u001b[39m\"\u001b[39m\u001b[39mProcessing file: \u001b[39m\u001b[39m{\u001b[39;00m\u001b[39mstr\u001b[39m(item)\u001b[39m}\u001b[39;00m\u001b[39m\"\u001b[39m)\n\u001b[0;32m--> 100\u001b[0m     sub_docs \u001b[39m=\u001b[39m \u001b[39mself\u001b[39;49m\u001b[39m.\u001b[39;49mloader_cls(\u001b[39mstr\u001b[39;49m(item), \u001b[39m*\u001b[39;49m\u001b[39m*\u001b[39;49m\u001b[39mself\u001b[39;49m\u001b[39m.\u001b[39;49mloader_kwargs)\u001b[39m.\u001b[39;49mload()\n\u001b[1;32m    101\u001b[0m     docs\u001b[39m.\u001b[39mextend(sub_docs)\n\u001b[1;32m    102\u001b[0m \u001b[39mexcept\u001b[39;00m \u001b[39mException\u001b[39;00m \u001b[39mas\u001b[39;00m e:\n",
      "File \u001b[0;32m~/Git/LangChainPractice/.venv/lib/python3.10/site-packages/langchain/document_loaders/unstructured.py:86\u001b[0m, in \u001b[0;36mUnstructuredBaseLoader.load\u001b[0;34m(self)\u001b[0m\n\u001b[1;32m     84\u001b[0m \u001b[39mdef\u001b[39;00m \u001b[39mload\u001b[39m(\u001b[39mself\u001b[39m) \u001b[39m-\u001b[39m\u001b[39m>\u001b[39m List[Document]:\n\u001b[1;32m     85\u001b[0m \u001b[39m    \u001b[39m\u001b[39m\"\"\"Load file.\"\"\"\u001b[39;00m\n\u001b[0;32m---> 86\u001b[0m     elements \u001b[39m=\u001b[39m \u001b[39mself\u001b[39;49m\u001b[39m.\u001b[39;49m_get_elements()\n\u001b[1;32m     87\u001b[0m     \u001b[39mif\u001b[39;00m \u001b[39mself\u001b[39m\u001b[39m.\u001b[39mmode \u001b[39m==\u001b[39m \u001b[39m\"\u001b[39m\u001b[39melements\u001b[39m\u001b[39m\"\u001b[39m:\n\u001b[1;32m     88\u001b[0m         docs: List[Document] \u001b[39m=\u001b[39m \u001b[39mlist\u001b[39m()\n",
      "File \u001b[0;32m~/Git/LangChainPractice/.venv/lib/python3.10/site-packages/langchain/document_loaders/unstructured.py:171\u001b[0m, in \u001b[0;36mUnstructuredFileLoader._get_elements\u001b[0;34m(self)\u001b[0m\n\u001b[1;32m    168\u001b[0m \u001b[39mdef\u001b[39;00m \u001b[39m_get_elements\u001b[39m(\u001b[39mself\u001b[39m) \u001b[39m-\u001b[39m\u001b[39m>\u001b[39m List:\n\u001b[1;32m    169\u001b[0m     \u001b[39mfrom\u001b[39;00m \u001b[39munstructured\u001b[39;00m\u001b[39m.\u001b[39;00m\u001b[39mpartition\u001b[39;00m\u001b[39m.\u001b[39;00m\u001b[39mauto\u001b[39;00m \u001b[39mimport\u001b[39;00m partition\n\u001b[0;32m--> 171\u001b[0m     \u001b[39mreturn\u001b[39;00m partition(filename\u001b[39m=\u001b[39;49m\u001b[39mself\u001b[39;49m\u001b[39m.\u001b[39;49mfile_path, \u001b[39m*\u001b[39;49m\u001b[39m*\u001b[39;49m\u001b[39mself\u001b[39;49m\u001b[39m.\u001b[39;49munstructured_kwargs)\n",
      "File \u001b[0;32m~/Git/LangChainPractice/.venv/lib/python3.10/site-packages/unstructured/partition/auto.py:220\u001b[0m, in \u001b[0;36mpartition\u001b[0;34m(filename, content_type, file, file_filename, url, include_page_breaks, strategy, encoding, paragraph_grouper, headers, skip_infer_table_types, ssl_verify, ocr_languages, pdf_infer_table_structure, xml_keep_tags, data_source_metadata, **kwargs)\u001b[0m\n\u001b[1;32m    213\u001b[0m     elements \u001b[39m=\u001b[39m partition_rst(\n\u001b[1;32m    214\u001b[0m         filename\u001b[39m=\u001b[39mfilename,\n\u001b[1;32m    215\u001b[0m         file\u001b[39m=\u001b[39mfile,\n\u001b[1;32m    216\u001b[0m         include_page_breaks\u001b[39m=\u001b[39minclude_page_breaks,\n\u001b[1;32m    217\u001b[0m         \u001b[39m*\u001b[39m\u001b[39m*\u001b[39mkwargs,\n\u001b[1;32m    218\u001b[0m     )\n\u001b[1;32m    219\u001b[0m \u001b[39melif\u001b[39;00m filetype \u001b[39m==\u001b[39m FileType\u001b[39m.\u001b[39mMD:\n\u001b[0;32m--> 220\u001b[0m     elements \u001b[39m=\u001b[39m partition_md(\n\u001b[1;32m    221\u001b[0m         filename\u001b[39m=\u001b[39mfilename,\n\u001b[1;32m    222\u001b[0m         file\u001b[39m=\u001b[39mfile,\n\u001b[1;32m    223\u001b[0m         include_page_breaks\u001b[39m=\u001b[39minclude_page_breaks,\n\u001b[1;32m    224\u001b[0m         \u001b[39m*\u001b[39m\u001b[39m*\u001b[39mkwargs,\n\u001b[1;32m    225\u001b[0m     )\n\u001b[1;32m    226\u001b[0m \u001b[39melif\u001b[39;00m filetype \u001b[39m==\u001b[39m FileType\u001b[39m.\u001b[39mPDF:\n\u001b[1;32m    227\u001b[0m     elements \u001b[39m=\u001b[39m partition_pdf(\n\u001b[1;32m    228\u001b[0m         filename\u001b[39m=\u001b[39mfilename,  \u001b[39m# type: ignore\u001b[39;00m\n\u001b[1;32m    229\u001b[0m         file\u001b[39m=\u001b[39mfile,  \u001b[39m# type: ignore\u001b[39;00m\n\u001b[0;32m   (...)\u001b[0m\n\u001b[1;32m    235\u001b[0m         \u001b[39m*\u001b[39m\u001b[39m*\u001b[39mkwargs,\n\u001b[1;32m    236\u001b[0m     )\n",
      "\u001b[0;31mNameError\u001b[0m: name 'partition_md' is not defined"
     ]
    }
   ],
   "source": [
    "docs = loader.load()"
   ]
  }
 ],
 "metadata": {
  "kernelspec": {
   "display_name": ".venv",
   "language": "python",
   "name": "python3"
  },
  "language_info": {
   "codemirror_mode": {
    "name": "ipython",
    "version": 3
   },
   "file_extension": ".py",
   "mimetype": "text/x-python",
   "name": "python",
   "nbconvert_exporter": "python",
   "pygments_lexer": "ipython3",
   "version": "3.10.12"
  },
  "orig_nbformat": 4
 },
 "nbformat": 4,
 "nbformat_minor": 2
}
